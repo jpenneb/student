{
 "cells": [
  {
   "cell_type": "code",
   "execution_count": 5,
   "metadata": {},
   "outputs": [
    {
     "name": "stdout",
     "output_type": "stream",
     "text": [
      "S c o t t   c a n t   c o d e\n"
     ]
    }
   ],
   "source": [
    "secretMessage = \"Someday cats will overthrow the corporate narcissistic, chodes\"\n",
    "print(secretMessage[0], secretMessage[8], secretMessage[18], \n",
    "      secretMessage[22], secretMessage[28], secretMessage[31], \n",
    "      secretMessage[32], secretMessage[38], secretMessage[42], \n",
    "      secretMessage[51], secretMessage[55], secretMessage[56], \n",
    "      secretMessage[58], secretMessage[59], secretMessage[60])"
   ]
  },
  {
   "cell_type": "code",
   "execution_count": 24,
   "metadata": {},
   "outputs": [
    {
     "data": {
      "text/plain": [
       "1"
      ]
     },
     "execution_count": 24,
     "metadata": {},
     "output_type": "execute_result"
    }
   ],
   "source": [
    "hello = \"test\"\n",
    "hello.find(\"e\")"
   ]
  },
  {
   "cell_type": "code",
   "execution_count": 21,
   "metadata": {},
   "outputs": [
    {
     "name": "stdout",
     "output_type": "stream",
     "text": [
      "Please enter your first name: Jarrett\n",
      "Please enter your last name: Pennebacker\n",
      "jpenneba\n"
     ]
    }
   ],
   "source": [
    "#username 1.0\n",
    "def main():\n",
    "    firstName = input(\"Please enter your first name: \")\n",
    "    lastName = input(\"Please enter your last name: \")\n",
    "    \n",
    "    username = firstName[0].lower() + lastName[:7].lower()\n",
    "    print(username)\n",
    "main()"
   ]
  },
  {
   "cell_type": "code",
   "execution_count": 30,
   "metadata": {},
   "outputs": [
    {
     "name": "stdout",
     "output_type": "stream",
     "text": [
      "Please enter your full name: Tyler Wilbers\n",
      "twilbers\n"
     ]
    }
   ],
   "source": [
    "#username 2.0\n",
    "def main():\n",
    "    name = input(\"Please enter your full name: \")\n",
    "    space = name.find(\" \")\n",
    "\n",
    "    username = name[0].lower() + name[space+1:space+8].lower()\n",
    "    print(username)\n",
    "main()    "
   ]
  },
  {
   "cell_type": "code",
   "execution_count": 33,
   "metadata": {},
   "outputs": [
    {
     "name": "stdout",
     "output_type": "stream",
     "text": [
      "What number month you want? 9\n",
      "Sep\n"
     ]
    }
   ],
   "source": [
    "#I want month abbr.\n",
    "def main():\n",
    "    monthNum = eval(input(\"What number month you want? \")) - 1\n",
    "    monthString = \"JanFebMarAprMayJunJulAugSepOctNovDec\"\n",
    "    \n",
    "    abbreviation = monthString[monthNum*3:monthNum*3+3]\n",
    "    print(abbreviation)\n",
    "main()"
   ]
  },
  {
   "cell_type": "code",
   "execution_count": 38,
   "metadata": {},
   "outputs": [
    {
     "name": "stdout",
     "output_type": "stream",
     "text": [
      "What number month you want? 5\n",
      "May\n"
     ]
    }
   ],
   "source": [
    "#other way for month abbrev?\n",
    "def main():\n",
    "    monthNum = eval(input(\"What number month you want? \")) - 1\n",
    "    \n",
    "    Jan = 0\n",
    "    Feb = 1\n",
    "    Mar = 2\n",
    "    Apr = 3\n",
    "    May = 4\n",
    "    Jun = 5\n",
    "    Jul = 6\n",
    "    Aug = 7\n",
    "    Sep = 8\n",
    "    Oct = 9\n",
    "    Nov = 10\n",
    "    Dec = 11\n",
    "    \n",
    "    if monthNum == 0:\n",
    "        print(\"Jan\")\n",
    "    if monthNum == 1:\n",
    "        print(\"Feb\")\n",
    "    if monthNum == 2:\n",
    "        print(\"Mar\")\n",
    "    if monthNum == 3:\n",
    "        print(\"Apr\")\n",
    "    if monthNum == 4:\n",
    "        print(\"May\")\n",
    "    if monthNum == 5:\n",
    "        print(\"Jun\")\n",
    "    if monthNum == 6:\n",
    "        print(\"Jul\")\n",
    "    if monthNum == 7:\n",
    "        print(\"Aug\")\n",
    "    if monthNum == 8:\n",
    "        print(\"Sep\")\n",
    "    if monthNum == 9:\n",
    "        print(\"Oct\")\n",
    "    if monthNum == 10:\n",
    "        print(\"Jan\")\n",
    "    if monthNum == 11:\n",
    "        print(\"Dec\")\n",
    "main()"
   ]
  },
  {
   "cell_type": "code",
   "execution_count": 42,
   "metadata": {},
   "outputs": [
    {
     "name": "stdout",
     "output_type": "stream",
     "text": [
      "What number month you want? 9\n",
      "September\n"
     ]
    }
   ],
   "source": [
    "#I want full month\n",
    "def main():\n",
    "    monthNum = eval(input(\"What number month you want? \")) - 1\n",
    "    monthList = [\"January\", \"February\", \"March\", \"April\", \"May\", \"June\", \"July\", \"August\", \"September\", \"October\",\n",
    "                \"November\", \"December\"]\n",
    "    \n",
    "    month = monthList[monthNum]\n",
    "    print(month)\n",
    "main()"
   ]
  },
  {
   "cell_type": "code",
   "execution_count": 43,
   "metadata": {},
   "outputs": [
    {
     "data": {
      "text/plain": [
       "97"
      ]
     },
     "execution_count": 43,
     "metadata": {},
     "output_type": "execute_result"
    }
   ],
   "source": [
    "ord(\"a\")"
   ]
  },
  {
   "cell_type": "code",
   "execution_count": 46,
   "metadata": {},
   "outputs": [
    {
     "data": {
      "text/plain": [
       "'a'"
      ]
     },
     "execution_count": 46,
     "metadata": {},
     "output_type": "execute_result"
    }
   ],
   "source": [
    "chr(97)"
   ]
  },
  {
   "cell_type": "code",
   "execution_count": 94,
   "metadata": {},
   "outputs": [
    {
     "name": "stdout",
     "output_type": "stream",
     "text": [
      "Please provide the date in M(M)/D(D)/YYYY format: 09/07/1994\n",
      "September 7, 1994\n"
     ]
    }
   ],
   "source": [
    "# date conversion\n",
    "def main():\n",
    "    dateSlashes = input(\"Please provide the date in M(M)/D(D)/YYYY format: \")\n",
    "    \n",
    "    dateSplit = dateSlashes.split('/')\n",
    "\n",
    "    month = dateSplit[0]\n",
    "    if month.find('0') == 0:\n",
    "        month = month.replace('0','')\n",
    "    month = eval(month) - 1\n",
    "    \n",
    "    day = dateSplit[1]\n",
    "    if day.find('0') == 0:\n",
    "        day = day.replace('0','')\n",
    "    \n",
    "    year = eval(dateSplit[2])\n",
    "    \n",
    "    months = ['January', 'February', 'March', 'April', 'May',\n",
    "              'June', 'July', 'August', 'September', 'October', \n",
    "              'November', 'December']\n",
    "    print(months[month], day + \",\", year)\n",
    "    \n",
    "main()"
   ]
  },
  {
   "cell_type": "code",
   "execution_count": 77,
   "metadata": {},
   "outputs": [
    {
     "data": {
      "text/plain": [
       "'5'"
      ]
     },
     "execution_count": 77,
     "metadata": {},
     "output_type": "execute_result"
    }
   ],
   "source": [
    "lists = '05'\n",
    "lists.replace('0', '')"
   ]
  },
  {
   "cell_type": "code",
   "execution_count": 127,
   "metadata": {},
   "outputs": [
    {
     "name": "stdout",
     "output_type": "stream",
     "text": [
      "jpenneba\n",
      "twilbers\n",
      "tendean\n",
      "\n",
      "kperskau\n"
     ]
    }
   ],
   "source": [
    "def main():\n",
    "    file = open('test.txt', 'r')\n",
    "    \n",
    "    for username in file:\n",
    "        firstName, lastName = username.lower().split(' ')[0], username.lower().split(' ')[1]\n",
    "        print(firstName[0] + lastName[:7])\n",
    "main()"
   ]
  },
  {
   "cell_type": "code",
   "execution_count": 136,
   "metadata": {},
   "outputs": [
    {
     "name": "stdout",
     "output_type": "stream",
     "text": [
      "What score number did you receive? (0-5) 1\n",
      "Your score is F\n"
     ]
    }
   ],
   "source": [
    "#quiz scores\n",
    "\n",
    "def main():\n",
    "    #get quiz score as input\n",
    "    numScore = eval(input(\"What score number did you receive? (0-5) \"))\n",
    "    letterScore = ['F', 'F', 'D', 'C', 'B', 'A']\n",
    "    print(\"Your score is {0}\".format(letterScore[numScore]))\n",
    "    \n",
    "main()"
   ]
  },
  {
   "cell_type": "code",
   "execution_count": 148,
   "metadata": {},
   "outputs": [
    {
     "name": "stdout",
     "output_type": "stream",
     "text": [
      "What's your damn score out of a 100: 99\n",
      "A\n"
     ]
    }
   ],
   "source": [
    "#quiz scores harder\n",
    "\n",
    "def main():\n",
    "    #get input quiz score\n",
    "    numScore = eval(input(\"What's your damn score out of a 100: \"))\n",
    "    \n",
    "    if numScore >= 90:\n",
    "        print('A')\n",
    "    if numScore < 90 and numScore >= 80:\n",
    "        print('B')\n",
    "    if numScore < 80 and numScore >= 70:\n",
    "        print('C')\n",
    "    if numScore < 70 and numScore >= 60:\n",
    "        print('D')\n",
    "    if numScore < 60:\n",
    "        print('F')\n",
    "\n",
    "main()"
   ]
  },
  {
   "cell_type": "code",
   "execution_count": 160,
   "metadata": {},
   "outputs": [
    {
     "name": "stdout",
     "output_type": "stream",
     "text": [
      "give me yo phrase you wanna turn into acronym: The President of the United States\n",
      "PUS\n"
     ]
    }
   ],
   "source": [
    "#acronym creator\n",
    "def main():\n",
    "    #recieve multi word phrase as input\n",
    "    phrase = input(\"give me yo phrase you wanna turn into acronym: \")\n",
    "    \n",
    "    wordList = phrase.split()\n",
    "    \n",
    "    acronym = []\n",
    "    for word in wordList:\n",
    "        if word not in ['the', 'The', 'of', 'for']:\n",
    "            acronym.append(word[0].upper())\n",
    "    print(\"\".join(acronym))\n",
    "\n",
    "main()"
   ]
  },
  {
   "cell_type": "code",
   "execution_count": 174,
   "metadata": {},
   "outputs": [
    {
     "name": "stdout",
     "output_type": "stream",
     "text": [
      "What's your name?: Jarrett Pennebacker\n",
      "186\n"
     ]
    }
   ],
   "source": [
    "#name value shit\n",
    "\n",
    "def main():\n",
    "    \n",
    "    name = input(\"What's your name?: \").lower()\n",
    "    \n",
    "    for letter in name:\n",
    "        name = name.replace(\" \",\"\")\n",
    "    \n",
    "    value = []\n",
    "    for letter in name:\n",
    "        letter = ord(letter) - 96\n",
    "        value.append(letter)\n",
    "    print(sum(value))\n",
    "main()"
   ]
  },
  {
   "cell_type": "code",
   "execution_count": 289,
   "metadata": {},
   "outputs": [
    {
     "name": "stdout",
     "output_type": "stream",
     "text": [
      "Please provide the message for decoding and the key, separated by commas: hello, 4\n",
      "lipps\n"
     ]
    }
   ],
   "source": [
    "#little secret code\n",
    "\n",
    "def main():\n",
    "    message, key = input(\"Please provide the message for decoding and the key, separated by commas: \").split(',')\n",
    "    key = eval(key)\n",
    "    \n",
    "    encrypList = []\n",
    "    for letter in message:\n",
    "        encrypList.append(chr(ord(letter) + key))\n",
    "    print(\"\".join(encrypList))\n",
    "\n",
    "main()                         "
   ]
  },
  {
   "cell_type": "code",
   "execution_count": 280,
   "metadata": {},
   "outputs": [
    {
     "name": "stdout",
     "output_type": "stream",
     "text": [
      "Please provide the message for decoding and the key, separated by commas: hello, 4\n",
      "lipps\n"
     ]
    }
   ],
   "source": [
    "#secret code but without rando charactes\n",
    "\n",
    "def main():\n",
    "    \n",
    "    message, key = input(\"Please provide the message for decoding and the key, separated by commas: \").split(',')\n",
    "    key = eval(key)\n",
    "    \n",
    "    encrypList = []\n",
    "    for letter in message:\n",
    "        newLetterOrd = ord(letter) + key\n",
    "        while (newLetterOrd - 122) >= 26:\n",
    "            newLetterOrd = newLetterOrd - 26\n",
    "            newLetterOrd = 97 + (newLetterOrd - 122)\n",
    "        if (newLetterOrd - 122) < 26 and (newLetterOrd - 122) > 0:\n",
    "            newLetterOrd = 97 + (newLetterOrd - 122)\n",
    "        if newLetterOrd >= 91 and newLetterOrd <= 96:\n",
    "            newLetterOrd = 97 + (newLetterOrd - 90)\n",
    "        newLetter = chr(newLetterOrd)\n",
    "        encrypList.append(newLetter)\n",
    "    print(\"\".join(encrypList))\n",
    "\n",
    "main()"
   ]
  },
  {
   "cell_type": "code",
   "execution_count": 290,
   "metadata": {},
   "outputs": [
    {
     "name": "stdout",
     "output_type": "stream",
     "text": [
      "Give me a sentence to count: hello there my friend\n",
      "4\n"
     ]
    }
   ],
   "source": [
    "# count words\n",
    "def main():\n",
    "    print(input(\"Give me a sentence to count: \").count(\" \") + 1)\n",
    "main()"
   ]
  },
  {
   "cell_type": "code",
   "execution_count": 298,
   "metadata": {},
   "outputs": [
    {
     "name": "stdout",
     "output_type": "stream",
     "text": [
      "Give me a sentence to give average word length for: o tw thr four fivee\n",
      "3.0\n"
     ]
    }
   ],
   "source": [
    "# average word length\n",
    "\n",
    "def main():\n",
    "    string = input(\"Give me a sentence to give average word length for: \").split(\" \")\n",
    "    \n",
    "    lens = []\n",
    "    counter = 0\n",
    "    for word in string:\n",
    "        lens.append(len(word))\n",
    "        counter = counter+1\n",
    "    print(sum(lens)/counter)\n",
    "main()    "
   ]
  },
  {
   "cell_type": "code",
   "execution_count": 322,
   "metadata": {},
   "outputs": [
    {
     "name": "stdout",
     "output_type": "stream",
     "text": [
      "I need two factors of input to get started (separate by commas, and must be between 0 and 1): 0.25, 0.26\n",
      "And number of itertions: 10\n",
      "index    0.25       0.26   \n",
      "---------------------------\n",
      " 1     0.731250   0.750360 \n",
      " 2     0.766441   0.730547 \n",
      " 3     0.698135   0.767707 \n",
      " 4     0.821896   0.695499 \n",
      " 5     0.570894   0.825942 \n",
      " 6     0.955399   0.560671 \n",
      " 7     0.166187   0.960644 \n",
      " 8     0.540418   0.147447 \n",
      " 9     0.968629   0.490255 \n",
      " 10    0.118509   0.974630 \n"
     ]
    }
   ],
   "source": [
    "# chaos program thingy upgraded though\n",
    "def main():\n",
    "    input1, input2 = eval(input(\"I need two factors of input to get started (separate by commas, and must be between 0 and 1): \"))\n",
    "    iterat = eval(input(\"And number of itertions: \"))\n",
    "\n",
    "    print(\"index {0:^10} {1:^10}\".format(input1,input2))\n",
    "    print(\"---------------------------\")\n",
    "    \n",
    "    \n",
    "    for i in range(iterat):\n",
    "        input1 = 3.9 * input1 * (1 - input1)\n",
    "        input2 = 3.9 * input2 * (1 - input2)\n",
    "        print(\" {0:<2}   {1:^10.6f} {2:^10.6f}\".format(i+1, input1, input2))    \n",
    "      \n",
    "main()"
   ]
  },
  {
   "cell_type": "code",
   "execution_count": null,
   "metadata": {},
   "outputs": [],
   "source": []
  }
 ],
 "metadata": {
  "kernelspec": {
   "display_name": "Python 3",
   "language": "python",
   "name": "python3"
  },
  "language_info": {
   "codemirror_mode": {
    "name": "ipython",
    "version": 3
   },
   "file_extension": ".py",
   "mimetype": "text/x-python",
   "name": "python",
   "nbconvert_exporter": "python",
   "pygments_lexer": "ipython3",
   "version": "3.7.4"
  }
 },
 "nbformat": 4,
 "nbformat_minor": 2
}
