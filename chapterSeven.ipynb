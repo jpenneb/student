{
 "cells": [
  {
   "cell_type": "code",
   "execution_count": 10,
   "metadata": {},
   "outputs": [
    {
     "name": "stdout",
     "output_type": "stream",
     "text": [
      "Please enter three values: 10,9,8\n",
      "The largest value is 10\n"
     ]
    }
   ],
   "source": [
    "def main():\n",
    "    x1, x2, x3 = eval(input(\"Please enter three values: \"))\n",
    "    \n",
    "    if x1 > x2:\n",
    "        if x1 > x3:\n",
    "            max = x1\n",
    "        else:\n",
    "            max = x3\n",
    "    else:\n",
    "        if x2 > x3:\n",
    "            max = x2\n",
    "        else:\n",
    "            max = x3    \n",
    "    print(\"The largest value is\", max)\n",
    "\n",
    "main()"
   ]
  },
  {
   "cell_type": "code",
   "execution_count": 19,
   "metadata": {},
   "outputs": [
    {
     "name": "stdout",
     "output_type": "stream",
     "text": [
      "Please input the number of hours you worked (in hours): 42\n",
      "What is your hourly wage? 5\n",
      "Your pay is $205.00\n"
     ]
    }
   ],
   "source": [
    "#calculate hourly wage (+time and a half for over 40)\n",
    "\n",
    "def main():\n",
    "    hours = eval(input(\"Please input the number of hours you worked (in hours): \"))\n",
    "    wage = eval(input(\"What is your hourly wage? \"))\n",
    "    \n",
    "    if hours > 40:\n",
    "        total = (40 * wage) + ((hours - 40) * wage/2)\n",
    "    else:\n",
    "        total = hours * wage\n",
    "        \n",
    "    print(\"Your pay is ${0:0.2f}\".format(total))\n",
    "\n",
    "main()"
   ]
  },
  {
   "cell_type": "code",
   "execution_count": 26,
   "metadata": {},
   "outputs": [
    {
     "name": "stdout",
     "output_type": "stream",
     "text": [
      "Enter your quiz score (0-5): 5\n",
      "Your score is A\n"
     ]
    }
   ],
   "source": [
    "#calculate quiz letter grade\n",
    "\n",
    "def main():\n",
    "    score = eval(input(\"Enter your quiz score (0-5): \"))\n",
    "    \n",
    "    if score == 5:\n",
    "        score = 'A'\n",
    "    elif score == 4:\n",
    "        score = 'B'\n",
    "    elif score == 3:\n",
    "        score = 'C'\n",
    "    elif score == 2:\n",
    "        score = 'D'\n",
    "    else:\n",
    "        score = 'F'\n",
    "    \n",
    "    print(\"Your score is\", score)\n",
    "\n",
    "main()"
   ]
  },
  {
   "cell_type": "code",
   "execution_count": 29,
   "metadata": {},
   "outputs": [
    {
     "name": "stdout",
     "output_type": "stream",
     "text": [
      "Enter your quiz score (0-100): 88\n",
      "Your score is B\n"
     ]
    }
   ],
   "source": [
    "#another quiz calculator\n",
    "\n",
    "def main():\n",
    "    \n",
    "    score = eval(input(\"Enter your quiz score (0-100): \"))\n",
    "    \n",
    "    if score <=100 and score >=90:\n",
    "        score = 'A'\n",
    "    elif score <=89 and score >= 80:\n",
    "        score = 'B'\n",
    "    elif score <=79 and score >= 70:\n",
    "        score = 'C'\n",
    "    elif score <=69 and score >= 60:\n",
    "        score = 'D'\n",
    "    else:\n",
    "        score = 'F'\n",
    "    \n",
    "    print(\"Your score is\", score)\n",
    "\n",
    "main()"
   ]
  },
  {
   "cell_type": "code",
   "execution_count": 48,
   "metadata": {},
   "outputs": [
    {
     "name": "stdout",
     "output_type": "stream",
     "text": [
      "Enter your weight (in pounds): 175\n",
      "Enter your height (ft'in): 5'11\n",
      "Your BMI is 25.00 which is considered within the healthy range. Good for you!\n"
     ]
    }
   ],
   "source": [
    "#calculate BMI\n",
    "\n",
    "def main():\n",
    "    \n",
    "    weight = eval(input(\"Enter your weight (in pounds): \"))\n",
    "    height = input(\"Enter your height (ft\\'in): \")\n",
    "    feet, inches = height.split(\"\\'\")\n",
    "    feet = eval(feet) * 12\n",
    "    height = feet + eval(inches)\n",
    "    \n",
    "    bmi = (weight * 720) / height**2\n",
    "    \n",
    "    if bmi < 19:\n",
    "        print(\"Your BMI is {0:0.2f} which is considered below the healthy range. Get to work you twig!\".format(bmi))\n",
    "    elif bmi >= 19 and bmi <= 25:\n",
    "        print(\"Your BMI is {0:0.2f} which is considered within the healthy range. Good for you!\".format(bmi))\n",
    "    else:\n",
    "        print(\"Your BMI is {0:0.2f} which is considered above the healthy range. Lose some weight maybe.\".format(bmi))\n",
    "\n",
    "main()"
   ]
  },
  {
   "cell_type": "code",
   "execution_count": 53,
   "metadata": {},
   "outputs": [
    {
     "name": "stdout",
     "output_type": "stream",
     "text": [
      "Enter age (in years): 45\n",
      "Enter number of years you have been US citizen: 7\n",
      "\n",
      "You are elibile only to be a US representative.\n"
     ]
    }
   ],
   "source": [
    "#calculate elgibility of senate/representative member\n",
    "\n",
    "def main():\n",
    "\n",
    "    age = eval(input(\"Enter age (in years): \"))\n",
    "    citizYear = eval(input(\"Enter number of years you have been US citizen: \"))\n",
    "    print()\n",
    "    \n",
    "    if age >= 30 and citizYear >= 9:\n",
    "        print(\"You are eligible to be a US senator and US representative.\")\n",
    "    elif age >= 25 and citizYear >= 7:\n",
    "        print(\"You are elibile only to be a US representative.\")\n",
    "    else:\n",
    "        print(\"You are not elibile to be a US senator or US representative.\")\n",
    "\n",
    "main()"
   ]
  },
  {
   "cell_type": "code",
   "execution_count": 85,
   "metadata": {},
   "outputs": [
    {
     "name": "stdout",
     "output_type": "stream",
     "text": [
      "Enter year:1994\n",
      "This is not a leap year\n"
     ]
    }
   ],
   "source": [
    "#calculate if leap year\n",
    "\n",
    "def main():\n",
    "    \n",
    "    year = eval(input(\"Enter year:\"))\n",
    "    \n",
    "    if year%4 == 0:\n",
    "        if year%100 == 0 and year%400 != 0:\n",
    "            print(\"This is not a leap year\")\n",
    "        else:\n",
    "            print(\"This is a leap year\")\n",
    "    else:\n",
    "        print(\"This is not a leap year\")\n",
    "    \n",
    "main()"
   ]
  },
  {
   "cell_type": "code",
   "execution_count": 119,
   "metadata": {},
   "outputs": [
    {
     "name": "stdout",
     "output_type": "stream",
     "text": [
      "Provide date in MM/DD/YYYY format: 2/29/2021\n",
      "This is not a valid date.\n"
     ]
    }
   ],
   "source": [
    "#check valid date\n",
    "\n",
    "def checkLeapYear(year):\n",
    "    \n",
    "    if year%4 == 0:\n",
    "        if year%100 == 0 and year%400 != 0:\n",
    "            leapYear = False\n",
    "        else:\n",
    "            leapYear = True\n",
    "    else:\n",
    "        leapYear = False\n",
    "    return leapYear\n",
    "\n",
    "def main():\n",
    "    \n",
    "    month, day, year = input(\"Provide date in MM/DD/YYYY format: \").split('/')\n",
    "    month = int(month)\n",
    "    day = int(day)\n",
    "    year = int(year)\n",
    "    \n",
    "    leapYear = checkLeapYear(year)\n",
    "        \n",
    "    thirtyDays = [2, 4, 6, 9, 11]\n",
    "    \n",
    "    if month in thirtyDays and day > 30:\n",
    "        print(\"This is not a valid date.\")\n",
    "    elif month == 2 and day == 30:\n",
    "        print(\"This is not a valid date.\")\n",
    "    elif month == 2 and day > 28 and leapYear == False:\n",
    "        print(\"This is not a valid date.\")\n",
    "    else:\n",
    "        print(\"This is a valid date.\")\n",
    "\n",
    "main()"
   ]
  },
  {
   "cell_type": "code",
   "execution_count": null,
   "metadata": {},
   "outputs": [],
   "source": [
    "# automate ball moving\n",
    "\n",
    "import graphics as gr\n",
    "from time import sleep\n",
    "\n",
    "def main():\n",
    "    \n",
    "    win = gr.GraphWin()\n",
    "    \n",
    "    startingPoint = win.getMouse()\n",
    "    \n",
    "    ball = gr.Circle(startingPoint, 6)\n",
    "    ball.draw(win)\n",
    "    \n",
    "    for i in range(1000):\n",
    "        ball.move(-1,-1)\n",
    "        sleep(0.05)\n",
    "main()"
   ]
  },
  {
   "cell_type": "code",
   "execution_count": null,
   "metadata": {},
   "outputs": [],
   "source": []
  }
 ],
 "metadata": {
  "kernelspec": {
   "display_name": "Python 3",
   "language": "python",
   "name": "python3"
  },
  "language_info": {
   "codemirror_mode": {
    "name": "ipython",
    "version": 3
   },
   "file_extension": ".py",
   "mimetype": "text/x-python",
   "name": "python",
   "nbconvert_exporter": "python",
   "pygments_lexer": "ipython3",
   "version": "3.7.4"
  }
 },
 "nbformat": 4,
 "nbformat_minor": 2
}
